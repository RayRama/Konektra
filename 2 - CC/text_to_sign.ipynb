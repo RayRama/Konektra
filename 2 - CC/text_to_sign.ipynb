{
 "cells": [
  {
   "cell_type": "code",
   "execution_count": 1,
   "metadata": {},
   "outputs": [],
   "source": [
    "import os\n",
    "from nltk.tokenize import word_tokenize\n",
    "import re\n",
    "from PIL import Image\n",
    "import time"
   ]
  },
  {
   "cell_type": "code",
   "execution_count": 2,
   "metadata": {},
   "outputs": [
    {
     "name": "stdout",
     "output_type": "stream",
     "text": [
      "halo\n",
      "nama\n",
      "saya\n",
      "kamu\n",
      "siapa\n",
      "teman\n",
      "tuli\n",
      "bisu\n",
      "selamat\n",
      "siang\n",
      "malam\n",
      "pagi\n",
      "apa\n",
      "kabar\n",
      "\n"
     ]
    }
   ],
   "source": [
    "file_path = os.path.join('data', 'wordlist.txt')\n",
    "\n",
    "with open(file_path, 'r') as file:\n",
    "  wordlist = file.read()\n",
    "\n",
    "print(wordlist)\n"
   ]
  },
  {
   "cell_type": "code",
   "execution_count": 54,
   "metadata": {},
   "outputs": [],
   "source": [
    "def preprocessing_text(text):\n",
    "  text = text.lower()\n",
    "  # remove extra whitespace, punktuation, and non-ascii chars\n",
    "  text = re.sub(r'\\s+', ' ', text)\n",
    "  text = re.sub(r'[^\\w\\s]', '', text)\n",
    "  text = re.sub(r'[^a-zA-Z]', ' ', text)\n",
    "  # text = word_tokenize(text)\n",
    "  return text.split(\" \")"
   ]
  },
  {
   "cell_type": "code",
   "execution_count": 55,
   "metadata": {},
   "outputs": [
    {
     "name": "stdout",
     "output_type": "stream",
     "text": [
      "['halo', 'nama', 'b', 'u', 'd', 'i']\n"
     ]
    }
   ],
   "source": [
    "query = \"Halo, nama budi\" # limit the query length to 30-40 chars (do in backend and frontend)\n",
    "\n",
    "query = preprocessing_text(query)\n",
    "\n",
    "# check if all words in query are in wordlist. if yes, append to result. if not, split the word to characters and append every character to result\n",
    "result = []\n",
    "for word in query:\n",
    "  if word in wordlist:\n",
    "    result.append(word)\n",
    "  else:\n",
    "    for char in word:\n",
    "      result.append(char)\n",
    "\n",
    "print(result)"
   ]
  },
  {
   "cell_type": "code",
   "execution_count": 62,
   "metadata": {},
   "outputs": [
    {
     "name": "stdout",
     "output_type": "stream",
     "text": [
      "Ditemukan halo.jpg\n",
      "Ditemukan nama.png\n",
      "Tidak ditemukan b.png atau .jpg\n",
      "Tidak ditemukan u.png atau .jpg\n",
      "Tidak ditemukan d.png atau .jpg\n",
      "Tidak ditemukan i.png atau .jpg\n"
     ]
    }
   ],
   "source": [
    "# check if image exists in source folder that matches the word in result\n",
    "def search_image(result):\n",
    "  \n",
    "  for word in result: # jumlah perbandingannya lebih sedikit karena hanya 1x perulangan\n",
    "    if os.path.isfile(os.path.join(\"Source\", word + \".jpg\")):\n",
    "      print(f\"Ditemukan {word}.jpg\")\n",
    "    elif os.path.isfile(os.path.join(\"Source\", word + \".png\")):\n",
    "      print(f\"Ditemukan {word}.png\")\n",
    "    else:\n",
    "      print(f\"Tidak ditemukan {word}.png atau .jpg\")\n",
    "\n",
    "search_image(result)"
   ]
  },
  {
   "cell_type": "markdown",
   "metadata": {},
   "source": [
    "## Catatan\n",
    "\n",
    "Untuk mengecek apakah image ada atau tidak, kita menggunakan PIL untuk menampilkannya. Namun, pada production, kita tidak akan menggunakan PIL, melainkan return path dari image tersebut, kemudian kirim ke client sebagai URL pada response."
   ]
  },
  {
   "cell_type": "code",
   "execution_count": 64,
   "metadata": {},
   "outputs": [
    {
     "name": "stdout",
     "output_type": "stream",
     "text": [
      "not found b.jpg or b.png\n",
      "not found u.jpg or u.png\n",
      "not found d.jpg or d.png\n",
      "not found i.jpg or i.png\n",
      "Time taken: 11.467369079589844 seconds\n"
     ]
    }
   ],
   "source": [
    "start_time = time.time()\n",
    "\n",
    "def search_image(result):\n",
    "  for word in result:\n",
    "    if os.path.isfile(os.path.join('Source', word + '.jpg')):\n",
    "      # show image\n",
    "      img = Image.open(os.path.join('Source', word + '.jpg'))\n",
    "      img.show()\n",
    "    elif os.path.isfile(os.path.join(\"Source\", word + \".png\")): # menampilkan png yang belum muncul\n",
    "      img = Image.open(os.path.join('Source', word + '.png'))\n",
    "      img.show()\n",
    "    else:\n",
    "      print('not found ' + word + '.jpg or ' + word + '.png')\n",
    "\n",
    "\n",
    "search_image(result)\n",
    "end_time = time.time()\n",
    "time_taken = end_time - start_time\n",
    "print(\"Time taken:\", time_taken, \"seconds\")"
   ]
  },
  {
   "cell_type": "code",
   "execution_count": null,
   "metadata": {},
   "outputs": [],
   "source": []
  }
 ],
 "metadata": {
  "kernelspec": {
   "display_name": "Python 3",
   "language": "python",
   "name": "python3"
  },
  "language_info": {
   "codemirror_mode": {
    "name": "ipython",
    "version": 3
   },
   "file_extension": ".py",
   "mimetype": "text/x-python",
   "name": "python",
   "nbconvert_exporter": "python",
   "pygments_lexer": "ipython3",
   "version": "3.9.2"
  }
 },
 "nbformat": 4,
 "nbformat_minor": 2
}
