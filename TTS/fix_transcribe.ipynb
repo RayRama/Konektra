{
 "cells": [
  {
   "cell_type": "code",
   "execution_count": 1,
   "metadata": {},
   "outputs": [],
   "source": [
    "import os"
   ]
  },
  {
   "cell_type": "code",
   "execution_count": 10,
   "metadata": {},
   "outputs": [],
   "source": [
    "# read the file data/orig_transcript\n",
    "# read 0 to 400 lines, change \"SPK00_F_0000\tReaksi berbeda\" etc to \"wav1|Reaksi berbeda\"\n",
    "# write to data/transcript\n",
    "\n",
    "with open(\"data/orig_transcript\", \"r\") as f:\n",
    "    lines = f.readlines()\n",
    "\n",
    "with open(\"data/transcript\", \"w\") as f:\n",
    "    \n",
    "    for i, line in enumerate(lines):\n",
    "        # if i <= 9:\n",
    "        #     line = line.replace(f\"SPK00_F_000{i}\", f\"wav{i+1}\").replace(\"\\t\", \"|\")\n",
    "        # elif i >= 10 and i <= 99:\n",
    "        #     line = line.replace(f\"SPK00_F_00{i}\", f\"wav{i+1}\").replace(\"\\t\", \"|\")\n",
    "        # elif i >= 100 and i <= 999:\n",
    "        #     line = line.replace(f\"SPK00_F_0{i}\", f\"wav{i+1}\").replace(\"\\t\", \"|\")\n",
    "        # elif i >= 1000 and i <= 9999:\n",
    "        #     line = line.replace(f\"SPK00_F_{i}\", f\"wav{i+1}\").replace(\"\\t\", \"|\")\n",
    "        line = line.replace(lines[i].split('\\t')[0], f\"wav{i+1}\").replace(\"\\t\", \"|\")\n",
    "        f.write(line)\n",
    "\n"
   ]
  },
  {
   "cell_type": "code",
   "execution_count": 9,
   "metadata": {},
   "outputs": [
    {
     "data": {
      "text/plain": [
       "'SPK00_F_0000'"
      ]
     },
     "execution_count": 9,
     "metadata": {},
     "output_type": "execute_result"
    }
   ],
   "source": [
    "lines[0].split(\"\\t\")[0]"
   ]
  }
 ],
 "metadata": {
  "kernelspec": {
   "display_name": "Python 3",
   "language": "python",
   "name": "python3"
  },
  "language_info": {
   "codemirror_mode": {
    "name": "ipython",
    "version": 3
   },
   "file_extension": ".py",
   "mimetype": "text/x-python",
   "name": "python",
   "nbconvert_exporter": "python",
   "pygments_lexer": "ipython3",
   "version": "3.10.1"
  }
 },
 "nbformat": 4,
 "nbformat_minor": 2
}
