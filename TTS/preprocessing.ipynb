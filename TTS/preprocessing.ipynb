{
 "cells": [
  {
   "cell_type": "markdown",
   "metadata": {},
   "source": [
    "# Result\n",
    "\n",
    "## Preprocessing Metadata\n",
    "\n",
    "Hasil akhirnya ada di file `transkrip.csv`\n",
    "\n",
    "## Preprocessing Audio Files\n",
    "\n",
    "Hasil akhirnya ada di folder `indo`"
   ]
  },
  {
   "cell_type": "markdown",
   "metadata": {},
   "source": [
    "-------"
   ]
  },
  {
   "cell_type": "markdown",
   "metadata": {},
   "source": [
    "# Persiapan\n",
    "\n",
    "- Install `pydub` dan `ffmpeg` untuk mengubah file `.wav` ke `.mp3`\n",
    "- Download audio file dari link yang diberikan\n",
    "- Pindahkan seluruh file yang ada di folder `librivox-indonesia/train/indonesian/` ke folder `data/audio`\n",
    "- Pindahkan juga `metadata_train.csv` ke folder `data`"
   ]
  },
  {
   "cell_type": "markdown",
   "metadata": {},
   "source": [
    "# Preprocessing Metadata"
   ]
  },
  {
   "cell_type": "code",
   "execution_count": 1,
   "metadata": {},
   "outputs": [],
   "source": [
    "import pandas as pd"
   ]
  },
  {
   "cell_type": "code",
   "execution_count": 7,
   "metadata": {},
   "outputs": [],
   "source": [
    "indo = pd.read_csv('data/indo.csv')"
   ]
  },
  {
   "cell_type": "code",
   "execution_count": 15,
   "metadata": {},
   "outputs": [],
   "source": [
    "# How i transpose the data\n",
    "indo = indo.transpose()"
   ]
  },
  {
   "cell_type": "code",
   "execution_count": 18,
   "metadata": {},
   "outputs": [],
   "source": [
    "columns = ['filename', 'id', 'num', 'label']\n",
    "indo.transpose().to_csv('data/indo.csv', header=columns, index=False)"
   ]
  },
  {
   "cell_type": "code",
   "execution_count": 22,
   "metadata": {},
   "outputs": [],
   "source": [
    "# i want to drop id and num column\n",
    "indo = indo.drop(['id', 'num'], axis=1)"
   ]
  },
  {
   "cell_type": "code",
   "execution_count": 29,
   "metadata": {},
   "outputs": [],
   "source": [
    "# i want to change filename all value to wav1.wav, wav2.wav, etc\n",
    "\n",
    "for i in range(0, 1001):\n",
    "    indo['filename'][i] = 'wav' + str(i + 1) + '.wav'\n"
   ]
  },
  {
   "cell_type": "code",
   "execution_count": 31,
   "metadata": {},
   "outputs": [],
   "source": [
    "indo.to_csv('data/indo2.csv', index=False)"
   ]
  },
  {
   "cell_type": "markdown",
   "metadata": {},
   "source": [
    "# Preprocessing Audio Files"
   ]
  },
  {
   "cell_type": "code",
   "execution_count": 32,
   "metadata": {},
   "outputs": [
    {
     "name": "stdout",
     "output_type": "stream",
     "text": [
      "Requirement already satisfied: pydub in c:\\python310\\lib\\site-packages (0.25.1)\n",
      "Note: you may need to restart the kernel to use updated packages.\n"
     ]
    },
    {
     "name": "stderr",
     "output_type": "stream",
     "text": [
      "WARNING: Ignoring invalid distribution -ip (c:\\python310\\lib\\site-packages)\n",
      "WARNING: Ignoring invalid distribution -ip (c:\\python310\\lib\\site-packages)\n"
     ]
    }
   ],
   "source": [
    "# %pip install pydub"
   ]
  },
  {
   "cell_type": "code",
   "execution_count": 3,
   "metadata": {},
   "outputs": [],
   "source": [
    "import os\n",
    "from pydub import AudioSegment\n",
    "\n",
    "# Get all file in data/audio directory\n",
    "files = os.listdir('data/audio')\n",
    "\n",
    "# Convert mp3 to wav\n",
    "for file in files:\n",
    "    sound = AudioSegment.from_mp3('data/audio/' + file)\n",
    "    sound.export('data/indo/' + file[:-4] + '.wav', format='wav')"
   ]
  },
  {
   "cell_type": "code",
   "execution_count": null,
   "metadata": {},
   "outputs": [],
   "source": [
    "# Rename all file in data/indo directory to wav1.wav, wav2.wav, etc\n",
    "files = os.listdir('data/indo')\n",
    "\n",
    "for i in range(0, len(files)):\n",
    "    os.rename('data/indo/' + files[i], 'data/indo/wav' + str(i + 1) + '.wav')"
   ]
  }
 ],
 "metadata": {
  "kernelspec": {
   "display_name": "Python 3",
   "language": "python",
   "name": "python3"
  },
  "language_info": {
   "codemirror_mode": {
    "name": "ipython",
    "version": 3
   },
   "file_extension": ".py",
   "mimetype": "text/x-python",
   "name": "python",
   "nbconvert_exporter": "python",
   "pygments_lexer": "ipython3",
   "version": "3.10.1"
  }
 },
 "nbformat": 4,
 "nbformat_minor": 2
}
