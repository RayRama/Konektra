{
 "cells": [
  {
   "cell_type": "code",
   "execution_count": 1,
   "metadata": {},
   "outputs": [],
   "source": [
    "import os\n",
    "import shutil\n",
    "\n",
    "source_folder = \"../../data_indsp_news_tts-main/speech/SPK00_1100/\"\n",
    "destination_folder = \"data/news_tts/\"\n",
    "\n",
    "# Create the destination folder if it doesn't exist\n",
    "os.makedirs(destination_folder, exist_ok=True)\n",
    "\n",
    "for sub in os.listdir(source_folder):\n",
    "  for file in os.listdir(os.path.join(source_folder, sub)):\n",
    "    source_file = os.path.join(source_folder, sub, file)\n",
    "    destination_file = os.path.join(destination_folder, file)\n",
    "    shutil.copy(source_file, destination_file)\n"
   ]
  }
 ],
 "metadata": {
  "kernelspec": {
   "display_name": "Python 3",
   "language": "python",
   "name": "python3"
  },
  "language_info": {
   "codemirror_mode": {
    "name": "ipython",
    "version": 3
   },
   "file_extension": ".py",
   "mimetype": "text/x-python",
   "name": "python",
   "nbconvert_exporter": "python",
   "pygments_lexer": "ipython3",
   "version": "3.10.1"
  }
 },
 "nbformat": 4,
 "nbformat_minor": 2
}
